{
 "cells": [
  {
   "cell_type": "markdown",
   "metadata": {},
   "source": [
    "# Notebook zu Blatt 8"
   ]
  },
  {
   "cell_type": "code",
   "execution_count": 69,
   "metadata": {},
   "outputs": [
    {
     "name": "stdout",
     "output_type": "stream",
     "text": [
      "Requirement already satisfied: numpy in d:\\python\\lib\\site-packages (1.24.0)\n",
      "Requirement already satisfied: seaborn in d:\\python\\lib\\site-packages (0.12.1)\n",
      "Requirement already satisfied: pandas>=0.25 in d:\\python\\lib\\site-packages (from seaborn) (1.5.2)\n",
      "Requirement already satisfied: matplotlib!=3.6.1,>=3.1 in d:\\python\\lib\\site-packages (from seaborn) (3.6.2)\n",
      "Requirement already satisfied: contourpy>=1.0.1 in d:\\python\\lib\\site-packages (from matplotlib!=3.6.1,>=3.1->seaborn) (1.0.6)\n",
      "Requirement already satisfied: cycler>=0.10 in d:\\python\\lib\\site-packages (from matplotlib!=3.6.1,>=3.1->seaborn) (0.11.0)\n",
      "Requirement already satisfied: fonttools>=4.22.0 in d:\\python\\lib\\site-packages (from matplotlib!=3.6.1,>=3.1->seaborn) (4.38.0)\n",
      "Requirement already satisfied: kiwisolver>=1.0.1 in d:\\python\\lib\\site-packages (from matplotlib!=3.6.1,>=3.1->seaborn) (1.4.4)\n",
      "Requirement already satisfied: packaging>=20.0 in d:\\python\\lib\\site-packages (from matplotlib!=3.6.1,>=3.1->seaborn) (22.0)\n",
      "Requirement already satisfied: pillow>=6.2.0 in d:\\python\\lib\\site-packages (from matplotlib!=3.6.1,>=3.1->seaborn) (9.3.0)\n",
      "Requirement already satisfied: pyparsing>=2.2.1 in d:\\python\\lib\\site-packages (from matplotlib!=3.6.1,>=3.1->seaborn) (3.0.9)\n",
      "Requirement already satisfied: python-dateutil>=2.7 in d:\\python\\lib\\site-packages (from matplotlib!=3.6.1,>=3.1->seaborn) (2.8.2)\n",
      "Requirement already satisfied: pytz>=2020.1 in d:\\python\\lib\\site-packages (from pandas>=0.25->seaborn) (2022.7)\n",
      "Requirement already satisfied: six>=1.5 in d:\\python\\lib\\site-packages (from python-dateutil>=2.7->matplotlib!=3.6.1,>=3.1->seaborn) (1.16.0)\n"
     ]
    }
   ],
   "source": [
    "!pip install numpy seaborn"
   ]
  },
  {
   "cell_type": "code",
   "execution_count": 70,
   "metadata": {},
   "outputs": [],
   "source": [
    "import numpy as np      # um zufällige arrays zu generieren\n",
    "import time             # zur zeitmessung\n",
    "import seaborn as sns   # zum plotten"
   ]
  },
  {
   "cell_type": "markdown",
   "metadata": {},
   "source": [
    "####  1. Implementieren Sie Selection Sort und Quicksort in Python"
   ]
  },
  {
   "cell_type": "code",
   "execution_count": 71,
   "metadata": {},
   "outputs": [],
   "source": [
    "def selectionSort(array):\n",
    "    \"\"\"\n",
    "     Traverse by every step the unsorted part of the given Array,\n",
    "     pick the smallest element and put it into the sorted part\n",
    "    :param array: the given array to be sorted\n",
    "    :return: the sorted array\n",
    "    \"\"\"\n",
    "    for i in range(len(array)):\n",
    "        min_idx = i\n",
    "        for j in range(i + 1, len(array)):\n",
    "            # Traverse the unsorted part to find the smallest element\n",
    "            if array[min_idx] > array[j]:\n",
    "                min_idx = j\n",
    "        array[i], array[min_idx] = array[min_idx], array[i]\n",
    "        # switch elements, now elements with index up to i belongs to the sorted part, the rest unsorted.\n",
    "    return array"
   ]
  },
  {
   "cell_type": "code",
   "execution_count": 72,
   "metadata": {
    "tags": []
   },
   "outputs": [
    {
     "name": "stdout",
     "output_type": "stream",
     "text": [
      "[1, 5, 7, 8]\n"
     ]
    }
   ],
   "source": [
    "array = [7,5,8,1] \n",
    "selectionSort(array)\n",
    "print(array) # das sortierte array"
   ]
  },
  {
   "cell_type": "code",
   "execution_count": 73,
   "metadata": {},
   "outputs": [],
   "source": [
    "def quickSort(array):\n",
    "    if len(array) <= 1:\n",
    "        # Start of Recursion: singleton array is sorted\n",
    "        return array\n",
    "    pivot = array[0]\n",
    "    # Take the first number of the array as the pivot value\n",
    "    llist, mlist, rlist = [], [], []\n",
    "    # Define empty lists to store elements greater than/less than/equal to the base value\n",
    "    for i in range(0, len(array)):\n",
    "        # Traverse the array and categorize the elements into three parts\n",
    "        if array[i] < pivot:\n",
    "            llist.append(array[i])\n",
    "        elif array[i] > pivot:\n",
    "            rlist.append(array[i])\n",
    "        else:\n",
    "            mlist.append(array[i])\n",
    "    return quickSort(llist) + mlist + quickSort(rlist) # Recursive call: put all sorted parts together"
   ]
  },
  {
   "cell_type": "code",
   "execution_count": 74,
   "metadata": {},
   "outputs": [
    {
     "name": "stdout",
     "output_type": "stream",
     "text": [
      "[7, 5, 8, 1]\n"
     ]
    }
   ],
   "source": [
    "array = [7,5,8,1] \n",
    "quickSort(array)\n",
    "print(array) # das sortierte array"
   ]
  },
  {
   "cell_type": "markdown",
   "source": [
    "####  2. Erläutern Sie kurz die Rolle des Pivot-Elements. Wie wird das Pivot-Element in Ihrer Implementierung gewählt?"
   ],
   "metadata": {
    "collapsed": false
   }
  },
  {
   "cell_type": "markdown",
   "source": [
    " Das Pivot-Element dient als die Grenze um die Werte vom gegebenen Array A in A< (Elemente kleiner als Pivot), A= (Elemente gleich Pivot) und A> (Elemente größer als Pivot) aufzuteilen. Die 3 Teile werden dann durch rekursive Aufrufe sortiert (außer A=) und nach Reihenfolge verbunden."
   ],
   "metadata": {
    "collapsed": false
   }
  },
  {
   "cell_type": "markdown",
   "source": [
    " Die Idee ist das Pivot am möglichsten in der Mitte auszuwählen, sodass sich die Länge n bei rekursiven Aufrufen proportional verkleinert und Laufzeit nach nlogn geht.\n",
    " Wir haben das erste Element aus dem Array als Pivot ausgewählt, da die Reihenfolge der Elemente randomisiert ist."
   ],
   "metadata": {
    "collapsed": false
   }
  },
  {
   "cell_type": "markdown",
   "source": [
    "#### 3. Gibt es für Ihre Implementierungen von Selection Sort und Quicksort worst-case Eingaben? Falls ja, welche?"
   ],
   "metadata": {
    "collapsed": false
   }
  },
  {
   "cell_type": "markdown",
   "source": [
    "Selection Sort: nein, im Sinne von O-Notation. Auf jedem Fall werden beim i-ten Schritt alle Elemente ab das i-te durchgelaufen um das Minimum auszufinden. Es kann wenigere Zuweisungsoperationen geben, falls die Eingabe bereits teilweise sortiert ist, aber die Laufzeit bleibt immer O(n^2)."
   ],
   "metadata": {
    "collapsed": false
   }
  },
  {
   "cell_type": "markdown",
   "source": [
    "Quick Sort: Ja, falls das erste Element immer das größte oder kleiste ist, verkleinert sich das betrachtete Array bei jedem Schritt nur um |A=|. D.h. die Laufzeit geht zu O(n^2)."
   ],
   "metadata": {
    "collapsed": false
   }
  },
  {
   "cell_type": "markdown",
   "metadata": {},
   "source": [
    "#### 4. Testen Sie die Korrektheit Ihrer Implementierungen anhand von verschiedenen Testfällen"
   ]
  },
  {
   "cell_type": "code",
   "execution_count": 75,
   "metadata": {},
   "outputs": [
    {
     "name": "stdout",
     "output_type": "stream",
     "text": [
      "expected 1: [1, 2, 3, 4, 5, 6, 7, 8]\n",
      "selectionSort 1: [1, 2, 3, 4, 5, 6, 7, 8]\n",
      "quickSort 1: [1, 2, 3, 4, 5, 6, 7, 8]\n",
      "expected 2: [1, 2, 3, 4, 5, 6, 7, 8]\n",
      "selectionSort 2: [1, 2, 3, 4, 5, 6, 7, 8]\n",
      "quickSort 2: [1, 2, 3, 4, 5, 6, 7, 8]\n",
      "expected 3: [3]\n",
      "selectionSort 3: [3]\n",
      "quickSort 3: [3]\n",
      "expected 4: [1, 2, 3, 4, 5, 6, 7, 8, 8]\n",
      "selectionSort 4: [1, 2, 3, 4, 5, 6, 7, 8, 8]\n",
      "quickSort 4: [1, 2, 3, 4, 5, 6, 7, 8, 8]\n",
      "expected 5: []\n",
      "selectionSort 5: []\n",
      "quickSort 5: []\n"
     ]
    }
   ],
   "source": [
    "# !!!!Formale Teste: siehe die unit-test Dateien!!!!\n",
    "\n",
    "array1 = [8,7,6,5,4,3,2,1]\n",
    "print(\"expected 1:\" , [1,2,3,4,5,6,7,8])\n",
    "array1_s=selectionSort(array1)\n",
    "print(\"selectionSort 1:\" , array1_s)\n",
    "array1_q=quickSort(array1)\n",
    "print(\"quickSort 1:\" , array1_q)\n",
    "\n",
    "array2 = [1,2,3,4,5,6,7,8]\n",
    "print(\"expected 2:\" , [1,2,3,4,5,6,7,8])\n",
    "array2_s=selectionSort(array2)\n",
    "print(\"selectionSort 2:\" , array2_s)\n",
    "array2_q=quickSort(array2)\n",
    "print(\"quickSort 2:\" , array2_q)\n",
    "\n",
    "\n",
    "array3 = [3]\n",
    "print(\"expected 3:\" , [3])\n",
    "array3_s=selectionSort(array3)\n",
    "print(\"selectionSort 3:\" , array3_s)\n",
    "array3_q=quickSort(array3)\n",
    "print(\"quickSort 3:\" , array3_q)\n",
    "\n",
    "array4 = [5,8,7,4,3,8,2,1,6]\n",
    "print(\"expected 4:\" , [1,2,3,4,5,6,7,8,8])\n",
    "array4_s=selectionSort(array4)\n",
    "print(\"selectionSort 4:\" , array4_s)\n",
    "array4_q=quickSort(array4)\n",
    "print(\"quickSort 4:\" , array4_q)\n",
    "\n",
    "array5 = []\n",
    "print(\"expected 5:\" , [])\n",
    "array5_s=selectionSort(array5)\n",
    "print(\"selectionSort 5:\" , array5_s)\n",
    "array5_q=quickSort(array5)\n",
    "print(\"quickSort 5:\" , array5_q)"
   ]
  },
  {
   "cell_type": "markdown",
   "metadata": {},
   "source": [
    "#### 5. Messen Sie die Laufzeit der beiden Sortieralgorithmen auf Ihrem Rechner."
   ]
  },
  {
   "cell_type": "code",
   "execution_count": 76,
   "metadata": {
    "tags": []
   },
   "outputs": [],
   "source": [
    "s_times, q_times = [], []\n",
    "arrar_sizes =  [10, 100, 500, 1000, 1500, 2000, 2500, 3000, 5000, 7500, 10000] # messung für verschiedenen array-längen\n",
    "for size in arrar_sizes:\n",
    "    # ziehe ein zufälliges array\n",
    "    np.random.seed(0)\n",
    "    array = np.random.randint(low=0, high=1000000, size=size) \n",
    "    start = time.time()\n",
    "    # hier sortieren mit selection sort - wie geht das?\n",
    "    selectionSort(array)\n",
    "    end = time.time()\n",
    "    s_times.append(end-start) # die zeit in sekunden\n",
    "print(s_times)\n",
    "\n",
    "    # und dann jetzt noch für quicksort :)\n",
    "for size in arrar_sizes:\n",
    "    # ziehe ein zufälliges array\n",
    "    np.random.seed(0)\n",
    "    array = np.random.randint(low=0, high=1000000, size=size)\n",
    "    start = time.time()\n",
    "    # hier sortieren mit selection sort - wie geht das?\n",
    "    quickSort(array)\n",
    "    end = time.time()\n",
    "    q_times.append(end-start) # die zeit in sekunden\n",
    "print(q_times)"
   ]
  },
  {
   "cell_type": "markdown",
   "metadata": {},
   "source": [
    "#### 6. Erstellen Sie einen geeignent Plot, der die Laufzeit der beiden Algorithmen in Abhängigkeit von der Eingabelänge darstellt"
   ]
  },
  {
   "cell_type": "code",
   "execution_count": 77,
   "metadata": {},
   "outputs": [],
   "source": [
    "# Hier kommet der Plot!"
   ]
  },
  {
   "cell_type": "markdown",
   "metadata": {
    "tags": []
   },
   "source": [
    "#### 7. Erstellen Sie für die beiden Sortieralgorithmen jeweils einen Plot, in dem gemessene Laufzeit durch die entsprechende asymptotische Laufzeitentwicklung approximiert wird."
   ]
  },
  {
   "cell_type": "code",
   "execution_count": 78,
   "metadata": {},
   "outputs": [],
   "source": [
    "# Hier kommen die Plots!"
   ]
  },
  {
   "cell_type": "markdown",
   "metadata": {},
   "source": [
    "#### 8. Vergleichen Sie die Laufzeit ihrer effizienten Implementierungen mit der Laufzeit der nativen sort() Funktion für Listen in Python"
   ]
  },
  {
   "cell_type": "code",
   "execution_count": 79,
   "metadata": {},
   "outputs": [],
   "source": [
    "# Hier kommt eure Laufzeitanalyse!"
   ]
  }
 ],
 "metadata": {
  "kernelspec": {
   "display_name": "Python 3 (ipykernel)",
   "language": "python",
   "name": "python3"
  },
  "language_info": {
   "codemirror_mode": {
    "name": "ipython",
    "version": 3
   },
   "file_extension": ".py",
   "mimetype": "text/x-python",
   "name": "python",
   "nbconvert_exporter": "python",
   "pygments_lexer": "ipython3",
   "version": "3.9.12"
  }
 },
 "nbformat": 4,
 "nbformat_minor": 4
}
